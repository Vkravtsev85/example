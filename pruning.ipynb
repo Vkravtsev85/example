{
 "cells": [
  {
   "cell_type": "markdown",
   "id": "b525a08a",
   "metadata": {},
   "source": [
    "# Практическая работа (Прореживание/pruning)"
   ]
  },
  {
   "cell_type": "markdown",
   "id": "c9aa35ba",
   "metadata": {},
   "source": [
    "# Задача: Реализовать стратегию \"Итеративное прореживание\" для задачи классификации"
   ]
  },
  {
   "cell_type": "markdown",
   "id": "8b4ff839",
   "metadata": {},
   "source": [
    "В данной работе необходимо реализовать **прореживание** ранее обученной сети (```pruning```) модели. Для этого нам потребуется библиотека NNI, в которой реализован автоматический pruning: https://nni.readthedocs.io/en/stable/Compression/Overview.html"
   ]
  },
  {
   "cell_type": "markdown",
   "id": "e3d2e618",
   "metadata": {},
   "source": [
    "Прореживание нейронной сети основана на той идеи, что в сети много излишних нейронов, которые мало влияют на конечный выход сети. Отсюда возникает идея - взять хорошо обученную модель и устранить в ней как можно больше весов и операций, при этом не потеряв существенно в качестве. Более того, при небольшом прореживании обычно наблюдается повышение качества на тестовой выборке. Предположительно, ликвидация лишних параметров убирает \"шумные веса\" из модели и разрушает случайные закономерности, которые сеть обнаруживает на обучающей выборке, но не являющиеся характерным для всего распределения данных в целом. \n",
    "\n",
    "На практике сверточные сети можно прорядить от 60-95% потеряв в точности менее 1%. "
   ]
  },
  {
   "cell_type": "markdown",
   "id": "a01d0e4f",
   "metadata": {},
   "source": [
    "***Поиск удаляемых сверток***\n",
    "\n",
    "Есть несколько вариантов выбора сверток для удаления:\n",
    "\n",
    "\n",
    " - Наименьшая ```L1-мера``` или low_magnitude_pruning. Идея, говорящая о том, что свертки с малыми значениями весов, вносят малый вклад в итоговое принятие решения\n",
    " - Наименьшая L1-мера с учетом среднего и стандартного отклонения. Дополняем оценкой характера распределения.\n",
    " - Маскирование сверток и исключение наименее влияющих на итоговую точность. Более точное определение малозначимых свёрток, но весьма затратное по времени и ресурсам.\n",
    " - Прочие\n",
    "\n",
    "Какой метод лучше \"сработает\" зависит от конкретной задачи и выбранной архитектуры сети. "
   ]
  },
  {
   "cell_type": "markdown",
   "id": "81ec6bdf",
   "metadata": {},
   "source": [
    "**Существует несколько стратегий по прореживанию моделей:**\n",
    "\n",
    " - Однократное прореживание (**One-shot pruning**).\n",
    "\n",
    "    Берется предварительно обученная модель и в определенный момент устраняется некоторая часть весов согласно алгоритму прореживания. Можно на этом этапе оставить все как есть, но обыкновенно продолжают обучение на протяжении еще некоторого количества эпох, тем более, что при использовании более грубых методов, вроде magnitude-based, качество первоначально может заметно просесть и восстановиться до уровня близкого в исходной модели, только после оптимизации. При этом важно дождаться сходимости к оптимуму, так как если проредить еще не оптимальную модель, итоговое качество будет несколько хуже.\n",
    "    \n",
    "\n",
    " - Итеративное прореживание\n",
    "\n",
    "    Модель прореживается постепенно. Через число шагов, определенных расписанием прореживания (```pruning schedule```), часть весов устраняется из модели, затем проводится дообучение модели. Данная процедура проводится некоторое количество раз до тех пор пока модель не достигнет требуемой разреженности. Здесь, как можно заметить, довольно большой простор для подбора гиперпараметров - сколько весов отбросить на данной итерации, сколько эпох обучать модель между каждой итерацией.\n",
    "    \n",
    "\n",
    " - Обучение разреженной модели c самого начала\n",
    "\n",
    "    Кроме того, можно стартовать сразу с разреженной модели, а затем уже по ходу дела убирать наименее важные веса и заодно наращивать новые веса (которые до этого были обращены в нуль) на основе некоторого критерия. Достоинством данного подхода является возможность обучения моделей, которые в плотном виде (dense) не помещаются в память устройства.\n",
    "\n"
   ]
  },
  {
   "cell_type": "markdown",
   "id": "8ac660f5",
   "metadata": {},
   "source": [
    "В данной работе продемонстрирую первую стратегию - Однократное прореживание, а вторую стратегию \"Итеративное прореживание\" нужно будет реализовать самостоятельно"
   ]
  },
  {
   "cell_type": "markdown",
   "id": "9c55b252",
   "metadata": {},
   "source": [
    "### 1.1 Установка библиотеки"
   ]
  },
  {
   "cell_type": "markdown",
   "id": "525c1733",
   "metadata": {},
   "source": [
    "Для начала поставим нужные библиотеки с помощью терминальной команды pip. Терминальные команды можно использовать в Jupyter Notebook-ах и Colab-е. Для того, чтобы запустить терминальную команду, необходимо перед командой поставить восклицательный знак. Например, чтобы посмотреть содержимое папки, можно использовать команду ```!ls```."
   ]
  },
  {
   "cell_type": "code",
   "execution_count": null,
   "id": "8e218116",
   "metadata": {},
   "outputs": [],
   "source": [
    "!pip3 install torchvision tqdm nni -q"
   ]
  },
  {
   "cell_type": "markdown",
   "id": "8f7432c4",
   "metadata": {},
   "source": [
    "### 1.2 Импортирование модулей"
   ]
  },
  {
   "cell_type": "markdown",
   "id": "9a084705",
   "metadata": {},
   "source": [
    "В этом практическом задании мы будем использовать несколько библиотек. Во-первых, это ```Pytorch``` и ```torchvision```. Кроме этого, нам понадобится ```NNI``` : при помощи него мы будем прореживать конвалюционные слои нейронные сети."
   ]
  },
  {
   "cell_type": "code",
   "execution_count": 8,
   "id": "b092b44c",
   "metadata": {},
   "outputs": [],
   "source": [
    "import numpy as np                       \n",
    "import torch                       \n",
    "import torchvision                       \n",
    "from torch import nn                       \n",
    "from torch.autograd import Variable                       \n",
    "from torchvision.datasets import MNIST \n",
    "from torchvision.datasets import CIFAR10\n",
    "import torchvision.transforms as T                      \n",
    "from torchvision.utils import save_image\n",
    "import matplotlib.pyplot as plt\n",
    "from collections import defaultdict\n",
    "from tqdm import tqdm\n",
    "from torch.utils.data import Dataset, DataLoader\n",
    "import time\n",
    "from nni.algorithms.compression.pytorch.pruning import L1FilterPruner\n",
    "from nni.algorithms.compression.pytorch.pruning import L2FilterPruner\n",
    "from nni.compression.pytorch import ModelSpeedup"
   ]
  },
  {
   "cell_type": "markdown",
   "id": "00ffda36",
   "metadata": {},
   "source": [
    "### 1.3 Воспроизводимое обучение"
   ]
  },
  {
   "cell_type": "markdown",
   "id": "a7679ece",
   "metadata": {},
   "source": [
    "Для того, чтобы постепенно улучшать процесс обучения нейронной сети, необходимо позаботиться о том, чтобы результат обучения воспроизводился от запуска к запуску. Поскольку при обучении нейронных сетей часто используются псевдослучайные числа, необходимо, чтобы генераторы случайных чисел выдавали одни и те же последовательности от запуска к запуску. Кроме того, необходимо переключить CUDA в детерминированный режим. Это требование уменьшает скорость выполнения программы, зато результаты вычислений становятся воспроизводимыми."
   ]
  },
  {
   "cell_type": "code",
   "execution_count": 9,
   "id": "3a0729ac",
   "metadata": {},
   "outputs": [],
   "source": [
    "seed=42\n",
    "torch.manual_seed(seed)\n",
    "torch.cuda.manual_seed(seed)\n",
    "torch.cuda.manual_seed_all(seed)\n",
    "torch.backends.cudnn.deterministic = True\n",
    "torch.backends.cudnn.benchmark = False"
   ]
  },
  {
   "cell_type": "markdown",
   "id": "ac1f201e",
   "metadata": {},
   "source": [
    "### 2.1 Определим функции для обучения"
   ]
  },
  {
   "cell_type": "markdown",
   "id": "0129c58c",
   "metadata": {},
   "source": [
    "Класс ```MetricMonitor``` вспомогательный, который агригирует значения по каждому новому batch и выводит статистику онлайн накопительным образом. Это позволяет во время обучения мониторить изменение метрик.\n"
   ]
  },
  {
   "cell_type": "code",
   "execution_count": 10,
   "id": "2727e4d8",
   "metadata": {},
   "outputs": [],
   "source": [
    "class MetricMonitor:\n",
    "    def __init__(self, float_precision=3):\n",
    "        self.float_precision = float_precision\n",
    "        self.reset()\n",
    "\n",
    "    def reset(self):\n",
    "        self.metrics = defaultdict(lambda: {\"val\": 0, \"count\": 0, \"avg\": 0})\n",
    "\n",
    "    def update(self, metric_name, val):\n",
    "        metric = self.metrics[metric_name]\n",
    "\n",
    "        metric[\"val\"] += val\n",
    "        metric[\"count\"] += 1\n",
    "        metric[\"avg\"] = metric[\"val\"] / metric[\"count\"]\n",
    "\n",
    "    def __str__(self):\n",
    "        return \" | \".join(\n",
    "            [\n",
    "                \"{metric_name}: {avg:.{float_precision}f}\".format(\n",
    "                    metric_name=metric_name, avg=metric[\"avg\"], float_precision=self.float_precision\n",
    "                )\n",
    "                for (metric_name, metric) in self.metrics.items()\n",
    "            ]\n",
    "        )"
   ]
  },
  {
   "cell_type": "markdown",
   "id": "b956dd77",
   "metadata": {},
   "source": [
    "Функция ```train``` отвечает за обучение. При этом, функция универсальная, тк работает с входными переменными: датасет ```train_loader```, модель ```model```, функцию ошибок ```criterion```, функцию оптимизации ```optimizer```, число эпох для обучения ```epochs``` и ```params```\n",
    "\n",
    "Внутри функции мы бежим по всему нашему тренировочному датасету и пропускаем его через модель для определения градиентов ошибки по bath (```criterian```). Внутри цикла происходит обновление весов на основе ```backward```. Предсказание модели получаем с помощью функции argmax по последнему слою, а показатели ```Loss``` и ```Accuracy``` помещаем в класс ```MetricMonitor```. \n",
    "Библиотека ```tqdm``` помогает визуализировать бегунок прогресса и значения, которые передаются в класс ```MetricMonitor```\n",
    "\n",
    "Функция ```validate```  отчечает за прогон данных на валидационной выборке ```val_loader``` и так же универсальна, тк большую часть переменных получает извне."
   ]
  },
  {
   "cell_type": "code",
   "execution_count": 11,
   "id": "e32294da",
   "metadata": {},
   "outputs": [],
   "source": [
    "def train(train_loader, model, criterion, optimizer, epochs, params):\n",
    "    metric_monitor = MetricMonitor()\n",
    "    model.train()\n",
    "    eterator = tqdm(train_loader)\n",
    "    for i, data in enumerate(eterator, start=1):\n",
    "        \n",
    "        image, label = data\n",
    "        image = image.to(params[\"device\"], non_blocking=True)\n",
    "        label = label.to(params[\"device\"], non_blocking=True)\n",
    "        output = model(image)\n",
    "        pred = output.argmax(dim=1, keepdim=True)\n",
    "        loss = criterion(output, label)\n",
    "        metric_monitor.update(\"Loss\", loss.item())\n",
    "        metric_monitor.update(\"Accuracy\", pred.eq(label.view_as(pred)).sum().item()/pred.shape[0]) \n",
    "        optimizer.zero_grad()\n",
    "        loss.backward()\n",
    "        optimizer.step()\n",
    "        eterator.set_description(\n",
    "            \"Epoch: {epoch}. Train.      {metric_monitor}\".format(epoch=epochs, metric_monitor=metric_monitor)\n",
    "        )\n",
    "        \n",
    "def validate(val_loader, model, criterion, epoch, params):\n",
    "    metric_monitor = MetricMonitor()\n",
    "    model.eval()\n",
    "    eterator = tqdm(val_loader)\n",
    "    \n",
    "    with torch.no_grad():\n",
    "        for i, (image, label) in enumerate(eterator, start=1):\n",
    "            image = image.to(params[\"device\"], non_blocking=True)\n",
    "            label = label.to(params[\"device\"], non_blocking=True)\n",
    "            output = model(image)\n",
    "            pred = output.argmax(dim=1, keepdim=True)\n",
    "            loss = criterion(output, label)\n",
    "            metric_monitor.update(\"Loss\", loss.item())\n",
    "            metric_monitor.update(\"Accuracy\", pred.eq(label.view_as(pred)).sum().item()/pred.shape[0])\n",
    "            eterator.set_description(\n",
    "                \"Epoch: {epoch}. Validation. {metric_monitor}\".format(epoch=epoch, metric_monitor=metric_monitor)\n",
    "            )\n",
    "            \n",
    "    return metric_monitor\n",
    "            "
   ]
  },
  {
   "cell_type": "markdown",
   "id": "710c561e",
   "metadata": {},
   "source": [
    "### 2.2 Определим функцию паплайна(```pipeline```) для обучения"
   ]
  },
  {
   "cell_type": "markdown",
   "id": "7aece8a7",
   "metadata": {},
   "source": [
    "Функция ```train_and_validate``` инициализирует train и valid датасет, задает функцию потерь (```CrossEntropyLoss```) и фунцию оптимизации ```AdamW```, затем последовательно в Эпохе вызывает ранее определенную функцию обучения и функцию валидации.\n",
    "Обращаю внимание, что этот паплайн возвращает в качестве результата обученную модель."
   ]
  },
  {
   "cell_type": "code",
   "execution_count": 24,
   "id": "07696566",
   "metadata": {},
   "outputs": [],
   "source": [
    "def train_and_validate(model, train_dataset, val_dataset, params):    \n",
    "    \n",
    "    train_loader = DataLoader(dataset=train_dataset,\n",
    "                              batch_size=params[\"batch_size\"],\n",
    "                              num_workers=params[\"num_workers\"],\n",
    "                              pin_memory=True,\n",
    "                              shuffle=True,\n",
    "                              drop_last = True)\n",
    "    \n",
    "    val_loader = DataLoader(dataset=val_dataset,\n",
    "                              batch_size=params[\"batch_size\"],\n",
    "                              num_workers=params[\"num_workers\"],\n",
    "                              pin_memory=True,\n",
    "                              shuffle=True)\n",
    "    best_metric = 1000\n",
    "    \n",
    "    criterion =  nn.CrossEntropyLoss().to(params[\"device\"])\n",
    "    optimizer = torch.optim.AdamW(model.parameters(), lr=params[\"lr\"])\n",
    "    \n",
    "    for epoch in range(1, params[\"epochs\"] + 1):\n",
    "        train(train_loader, model, criterion, optimizer, epoch, params)\n",
    "        metric_monitor_ = validate(val_loader, model, criterion, epoch, params)\n",
    "        \n",
    "        metric = metric_monitor_.metrics['Accuracy']['avg']\n",
    "\n",
    "        if best_metric > metric:\n",
    "            best_metric = metric\n",
    "            torch.save(model.state_dict(), \"./best_model.pth\")\n",
    "            \n",
    "    torch.save(model.state_dict(), \"./final_model.pth\")\n",
    "    \n",
    "    return model\n"
   ]
  },
  {
   "cell_type": "markdown",
   "id": "96ed196e",
   "metadata": {},
   "source": [
    "### 3.1 Инициализация датасетов"
   ]
  },
  {
   "cell_type": "markdown",
   "id": "2fd7584c",
   "metadata": {},
   "source": [
    "В этом ноутбуке мы не будем писать своих датасетов, а будем использовать те, что имеются в наличии во вспомогательной библиотеке `torchvision`. Нас будет интересовать датасет `Cifar10` (10 классов).\n",
    "\n",
    "1. Изучите интерфейс класса `torchvision.datasets.CIFAR10`. Посмотрите, какими параметрами можно влиять на этот датасет.\n",
    "\n",
    "2. Инициализируйте тренировочный и тестовый датасеты (`torchvision.datasets.CIFAR10`). \n",
    "\n",
    "3. В конструкторе используйте следующие параметры:\n",
    "    * аугментации из `torchvision.transforms`:\n",
    "        * `T.ToTensor()`\n",
    "        * `T.Normalize((0.485, 0.456, 0.406),(0.229, 0.224, 0.225)),`\n",
    "\n",
    "    * `root` -- любой на Ваш вкус\n",
    "    * проанализируйте и выставьте остальные аргументы так, как вам кажется правильнее. Не забывайте, что перемешивать датасет имеет смысл для тренировочной выборки.\n"
   ]
  },
  {
   "cell_type": "code",
   "execution_count": 6,
   "id": "99b2d124",
   "metadata": {},
   "outputs": [
    {
     "name": "stdout",
     "output_type": "stream",
     "text": [
      "Downloading https://www.cs.toronto.edu/~kriz/cifar-10-python.tar.gz to ./Cifar/cifar-10-python.tar.gz\n"
     ]
    },
    {
     "data": {
      "application/vnd.jupyter.widget-view+json": {
       "model_id": "1b53d21e6b58463e85d8046240510952",
       "version_major": 2,
       "version_minor": 0
      },
      "text/plain": [
       "  0%|          | 0/170498071 [00:00<?, ?it/s]"
      ]
     },
     "metadata": {},
     "output_type": "display_data"
    },
    {
     "name": "stdout",
     "output_type": "stream",
     "text": [
      "Extracting ./Cifar/cifar-10-python.tar.gz to ./Cifar\n",
      "Files already downloaded and verified\n"
     ]
    }
   ],
   "source": [
    "preprocess = T.Compose([\n",
    "    T.ToTensor(),\n",
    "    T.Normalize((0.485, 0.456, 0.406), (0.229, 0.224, 0.225)),\n",
    "])\n",
    "\n",
    "data_train = CIFAR10(root=\"./Cifar\",train = True, transform = preprocess, download=True)\n",
    "data_test = CIFAR10(root=\"./Cifar\",train = False, transform = preprocess, download=True)"
   ]
  },
  {
   "cell_type": "code",
   "execution_count": 14,
   "id": "acf941b5",
   "metadata": {},
   "outputs": [
    {
     "data": {
      "text/plain": [
       "<matplotlib.image.AxesImage at 0x135ac6ca0>"
      ]
     },
     "execution_count": 14,
     "metadata": {},
     "output_type": "execute_result"
    },
    {
     "data": {
      "image/png": "[encoded data removed]",
      "text/plain": [
       "<Figure size 432x288 with 1 Axes>"
      ]
     },
     "metadata": {
      "needs_background": "light"
     },
     "output_type": "display_data"
    }
   ],
   "source": [
    "plt.imshow(data_train.data[6])"
   ]
  },
  {
   "cell_type": "markdown",
   "id": "1c7cdc52",
   "metadata": {},
   "source": [
    "### 4.1 Проведем файн-тюнинг модели"
   ]
  },
  {
   "cell_type": "markdown",
   "id": "6692715b",
   "metadata": {},
   "source": [
    "Для файн-тюнинга модели будем использорвать предобученную модель ResNet18 из библиотеки ```torchvision```. В оригинале модель обучена на датасете Imagenet, где предсказанием является один из 1000 классов. В нашем случае ответ модели другой, поэтому заменим последний линейный слой ```fc``` на слой с 10 нейронами, что соответствует количеству классов в нашем датасете."
   ]
  },
  {
   "cell_type": "code",
   "execution_count": 15,
   "id": "b39c998c",
   "metadata": {},
   "outputs": [
    {
     "name": "stderr",
     "output_type": "stream",
     "text": [
      "Downloading: \"https://download.pytorch.org/models/resnet18-5c106cde.pth\" to /Users/kravtsev-vs/.cache/torch/hub/checkpoints/resnet18-5c106cde.pth\n"
     ]
    },
    {
     "data": {
      "application/vnd.jupyter.widget-view+json": {
       "model_id": "3d35a4a813174059ae226c99686e992c",
       "version_major": 2,
       "version_minor": 0
      },
      "text/plain": [
       "  0%|          | 0.00/44.7M [00:00<?, ?B/s]"
      ]
     },
     "metadata": {},
     "output_type": "display_data"
    }
   ],
   "source": [
    "model = torchvision.models.resnet18( pretrained= True)"
   ]
  },
  {
   "cell_type": "code",
   "execution_count": 19,
   "id": "caa2a895",
   "metadata": {},
   "outputs": [],
   "source": [
    "model = torchvision.models.resnet18(pretrained= True)\n",
    "model.fc = nn.Linear(in_features=512, out_features=10, bias=True)\n",
    "model = model.to(params[\"device\"])"
   ]
  },
  {
   "cell_type": "markdown",
   "id": "698f3c7f",
   "metadata": {},
   "source": [
    "Зададим прочие параметры обучения в объект типа dict ```params```"
   ]
  },
  {
   "cell_type": "code",
   "execution_count": 22,
   "id": "07f53207",
   "metadata": {},
   "outputs": [],
   "source": [
    "params = {\n",
    "    \"device\": \"cpu\",\n",
    "    \"lr\": 0.0001,\n",
    "    \"batch_size\": 128,\n",
    "    \"num_workers\": 8,\n",
    "    \"epochs\": 5,\n",
    "}"
   ]
  },
  {
   "cell_type": "markdown",
   "id": "1de4ee3b",
   "metadata": {},
   "source": [
    "И запустим обучение"
   ]
  },
  {
   "cell_type": "code",
   "execution_count": null,
   "id": "f7aefd8e",
   "metadata": {},
   "outputs": [],
   "source": [
    "model = train_and_validate(model, data_train, data_test, params)"
   ]
  },
  {
   "cell_type": "markdown",
   "id": "1f12359b",
   "metadata": {},
   "source": [
    "### 5.1 Оптимизация(прунинг) ранее обученно модели"
   ]
  },
  {
   "cell_type": "markdown",
   "id": "721d7f7d",
   "metadata": {},
   "source": [
    "Проведем оптимизацию моделей двумя разными методами для сравнения ```L1FilterPruner``` (https://arxiv.org/pdf/1608.08710.pdf) и ```L2FilterPruner```. Подробнее о методах можно узнать в оригинальных статьях, ниже освежим в памяти алгоритм для L1Filter Pruner."
   ]
  },
  {
   "cell_type": "markdown",
   "id": "e725e0bc",
   "metadata": {},
   "source": [
    "\n",
    "L1Filter Pruner удаляет фильтры в сверточных слоях\n",
    "\n",
    "Процедура обрезки m фильтров из i-го сверточного слоя выглядит следующим образом:\n",
    "\n",
    "Для каждого фильтра http://latex.codecogs.com/gif.latex?F_%7Bi,j%7Dвычислите сумму его абсолютных весов ядраhttp://latex.codecogs.com/gif.latex?s_j=%5Csum_%7Bl=1%7D%5E%7Bn_i%7D%5Csum%7CK_l%7C\n",
    "Отсортируйте фильтры по http://latex.codecogs.com/gif.latex?s_j.\n",
    "Сократите http://latex.codecogs.com/gif.latex?mфильтры с наименьшими значениями суммы и их соответствующими картами признаков. Ядра в следующем сверточном слое, соответствующем сокращенным картам объектов, также удаляются.\n",
    "Новая матрица ядра создается как для слоя th, так http://latex.codecogs.com/gif.latex?iи http://latex.codecogs.com/gif.latex?i+1для слоя th, а оставшиеся веса ядра копируются в новую модель.\n",
    "\n",
    "сохраним результаты прореженных моделей \"model_prunel1.pth\" и \"model_prunel2.pth\""
   ]
  },
  {
   "cell_type": "code",
   "execution_count": null,
   "id": "eb898d05",
   "metadata": {},
   "outputs": [],
   "source": [
    "#Задаем конфигурацию прореживания - Conv2d стой и sparsity 0,5 (или сремимся убрать 50% фильтров)\n",
    "config_list = [{ 'sparsity': 0.5, 'op_types': ['Conv2d'] }]\n",
    "\n",
    "#Загружаем лучшую модель\n",
    "model = torchvision.models.resnet18( pretrained= False)\n",
    "model_w = torch.load (\"./best_model.pth\", map_location=\"cpu\")\n",
    "model.load_state_dict(model_w).eval()\n",
    "\n",
    "#Создаем тензор для поиска кандидатов на прореживания\n",
    "dummy_input = torch.randn(1, 3, 32, 32).to(\"cpu\")\n",
    "\n",
    "\n",
    "#Запускаем алгоритм поиска кандидатов на прореживания, в результате сохраним веса новой модеои и маску прореженного графа сети\n",
    "pruner = L1FilterPruner(model, config_list);\n",
    "pruned_model = pruner.compress();\n",
    "pruner.export_model(model_path='./test.pt', mask_path='./test_mask.pt')\n",
    "\n",
    "#Применим новые веса для ускорения модели, для чего заново загрузим модель и в соответствии с маской удалим ненужные веса \n",
    "model_new = torchvision.models.resnet18( pretrained= False)\n",
    "model_w = torch.load (\"./best_model.pth\", map_location=\"cpu\")\n",
    "model_new.load_state_dict(model_w).eval()\n",
    "m_speedup = ModelSpeedup(model_new, dummy_input, './test_mask.pt')\n",
    "m_speedup.speedup_model();\n",
    "\n",
    "\n",
    "torch.save(m, \"./model_prunel1.pth\")"
   ]
  },
  {
   "cell_type": "markdown",
   "id": "23c2ca72",
   "metadata": {},
   "source": [
    "Проведем ту же операцию с L2Filter Pruner."
   ]
  },
  {
   "cell_type": "code",
   "execution_count": 29,
   "id": "c35ce81c",
   "metadata": {},
   "outputs": [
    {
     "name": "stdout",
     "output_type": "stream",
     "text": [
      "[2022-04-08 19:11:54] INFO (nni.compression.pytorch.compressor/MainThread) Model state_dict saved to ./test.pt\n",
      "[2022-04-08 19:11:54] INFO (nni.compression.pytorch.compressor/MainThread) Mask dict saved to ./test_mask.pt\n",
      "[2022-04-08 19:11:55] INFO (nni.compression.pytorch.speedup.compressor/MainThread) start to speed up the model\n",
      "[2022-04-08 19:11:55] INFO (FixMaskConflict/MainThread) {'conv1': 1, 'layer1.0.conv1': 1, 'layer1.0.conv2': 1, 'layer1.1.conv1': 1, 'layer1.1.conv2': 1, 'layer2.0.conv1': 1, 'layer2.0.conv2': 1, 'layer2.0.downsample.0': 1, 'layer2.1.conv1': 1, 'layer2.1.conv2': 1, 'layer3.0.conv1': 1, 'layer3.0.conv2': 1, 'layer3.0.downsample.0': 1, 'layer3.1.conv1': 1, 'layer3.1.conv2': 1, 'layer4.0.conv1': 1, 'layer4.0.conv2': 1, 'layer4.0.downsample.0': 1, 'layer4.1.conv1': 1, 'layer4.1.conv2': 1}\n",
      "[2022-04-08 19:11:55] INFO (FixMaskConflict/MainThread) dim0 sparsity: 0.500000\n",
      "[2022-04-08 19:11:55] INFO (FixMaskConflict/MainThread) dim1 sparsity: 0.000000\n",
      "[2022-04-08 19:11:55] INFO (FixMaskConflict/MainThread) Dectected conv prune dim\" 0\n",
      "[2022-04-08 19:11:56] INFO (nni.compression.pytorch.speedup.compressor/MainThread) infer module masks...\n",
      "[2022-04-08 19:11:56] INFO (nni.compression.pytorch.speedup.compressor/MainThread) Update mask for conv1\n",
      "[2022-04-08 19:11:56] INFO (nni.compression.pytorch.speedup.compressor/MainThread) Update mask for bn1\n",
      "[2022-04-08 19:11:56] INFO (nni.compression.pytorch.speedup.compressor/MainThread) Update mask for relu\n",
      "[2022-04-08 19:11:56] INFO (nni.compression.pytorch.speedup.compressor/MainThread) Update mask for maxpool\n",
      "[2022-04-08 19:11:56] INFO (nni.compression.pytorch.speedup.compressor/MainThread) Update mask for layer1.0.conv1\n",
      "[2022-04-08 19:11:56] INFO (nni.compression.pytorch.speedup.compressor/MainThread) Update mask for layer1.0.bn1\n",
      "[2022-04-08 19:11:56] INFO (nni.compression.pytorch.speedup.compressor/MainThread) Update mask for layer1.0.relu\n",
      "[2022-04-08 19:11:56] INFO (nni.compression.pytorch.speedup.compressor/MainThread) Update mask for layer1.0.conv2\n",
      "[2022-04-08 19:11:56] INFO (nni.compression.pytorch.speedup.compressor/MainThread) Update mask for layer1.0.bn2\n",
      "[2022-04-08 19:11:56] INFO (nni.compression.pytorch.speedup.compressor/MainThread) Update mask for layer1.0.aten::add_.61\n",
      "[2022-04-08 19:11:56] INFO (nni.compression.pytorch.speedup.compressor/MainThread) Update mask for layer1.0.relu\n",
      "[2022-04-08 19:11:56] INFO (nni.compression.pytorch.speedup.compressor/MainThread) Update mask for layer1.1.conv1\n",
      "[2022-04-08 19:11:56] INFO (nni.compression.pytorch.speedup.compressor/MainThread) Update mask for layer1.1.bn1\n",
      "[2022-04-08 19:11:56] INFO (nni.compression.pytorch.speedup.compressor/MainThread) Update mask for layer1.1.relu\n",
      "[2022-04-08 19:11:56] INFO (nni.compression.pytorch.speedup.compressor/MainThread) Update mask for layer1.1.conv2\n",
      "[2022-04-08 19:11:56] INFO (nni.compression.pytorch.speedup.compressor/MainThread) Update mask for layer1.1.bn2\n",
      "[2022-04-08 19:11:56] INFO (nni.compression.pytorch.speedup.compressor/MainThread) Update mask for layer1.1.aten::add_.62\n",
      "[2022-04-08 19:11:56] INFO (nni.compression.pytorch.speedup.compressor/MainThread) Update mask for layer1.1.relu\n",
      "[2022-04-08 19:11:56] INFO (nni.compression.pytorch.speedup.compressor/MainThread) Update mask for layer2.0.conv1\n",
      "[2022-04-08 19:11:56] INFO (nni.compression.pytorch.speedup.compressor/MainThread) Update mask for layer2.0.downsample.0\n",
      "[2022-04-08 19:11:56] INFO (nni.compression.pytorch.speedup.compressor/MainThread) Update mask for layer2.0.bn1\n",
      "[2022-04-08 19:11:56] INFO (nni.compression.pytorch.speedup.compressor/MainThread) Update mask for layer2.0.downsample.1\n",
      "[2022-04-08 19:11:56] INFO (nni.compression.pytorch.speedup.compressor/MainThread) Update mask for layer2.0.relu\n",
      "[2022-04-08 19:11:56] INFO (nni.compression.pytorch.speedup.compressor/MainThread) Update mask for layer2.0.conv2\n",
      "[2022-04-08 19:11:56] INFO (nni.compression.pytorch.speedup.compressor/MainThread) Update mask for layer2.0.bn2\n",
      "[2022-04-08 19:11:56] INFO (nni.compression.pytorch.speedup.compressor/MainThread) Update mask for layer2.0.aten::add_.63\n",
      "[2022-04-08 19:11:56] INFO (nni.compression.pytorch.speedup.compressor/MainThread) Update mask for layer2.0.relu\n",
      "[2022-04-08 19:11:56] INFO (nni.compression.pytorch.speedup.compressor/MainThread) Update mask for layer2.1.conv1\n",
      "[2022-04-08 19:11:56] INFO (nni.compression.pytorch.speedup.compressor/MainThread) Update mask for layer2.1.bn1\n",
      "[2022-04-08 19:11:56] INFO (nni.compression.pytorch.speedup.compressor/MainThread) Update mask for layer2.1.relu\n",
      "[2022-04-08 19:11:56] INFO (nni.compression.pytorch.speedup.compressor/MainThread) Update mask for layer2.1.conv2\n",
      "[2022-04-08 19:11:56] INFO (nni.compression.pytorch.speedup.compressor/MainThread) Update mask for layer2.1.bn2\n",
      "[2022-04-08 19:11:56] INFO (nni.compression.pytorch.speedup.compressor/MainThread) Update mask for layer2.1.aten::add_.64\n",
      "[2022-04-08 19:11:56] INFO (nni.compression.pytorch.speedup.compressor/MainThread) Update mask for layer2.1.relu\n",
      "[2022-04-08 19:11:56] INFO (nni.compression.pytorch.speedup.compressor/MainThread) Update mask for layer3.0.conv1\n",
      "[2022-04-08 19:11:56] INFO (nni.compression.pytorch.speedup.compressor/MainThread) Update mask for layer3.0.downsample.0\n",
      "[2022-04-08 19:11:56] INFO (nni.compression.pytorch.speedup.compressor/MainThread) Update mask for layer3.0.bn1\n",
      "[2022-04-08 19:11:56] INFO (nni.compression.pytorch.speedup.compressor/MainThread) Update mask for layer3.0.downsample.1\n",
      "[2022-04-08 19:11:56] INFO (nni.compression.pytorch.speedup.compressor/MainThread) Update mask for layer3.0.relu\n",
      "[2022-04-08 19:11:56] INFO (nni.compression.pytorch.speedup.compressor/MainThread) Update mask for layer3.0.conv2\n",
      "[2022-04-08 19:11:56] INFO (nni.compression.pytorch.speedup.compressor/MainThread) Update mask for layer3.0.bn2\n",
      "[2022-04-08 19:11:56] INFO (nni.compression.pytorch.speedup.compressor/MainThread) Update mask for layer3.0.aten::add_.65\n",
      "[2022-04-08 19:11:56] INFO (nni.compression.pytorch.speedup.compressor/MainThread) Update mask for layer3.0.relu\n",
      "[2022-04-08 19:11:56] INFO (nni.compression.pytorch.speedup.compressor/MainThread) Update mask for layer3.1.conv1\n",
      "[2022-04-08 19:11:56] INFO (nni.compression.pytorch.speedup.compressor/MainThread) Update mask for layer3.1.bn1\n",
      "[2022-04-08 19:11:56] INFO (nni.compression.pytorch.speedup.compressor/MainThread) Update mask for layer3.1.relu\n",
      "[2022-04-08 19:11:56] INFO (nni.compression.pytorch.speedup.compressor/MainThread) Update mask for layer3.1.conv2\n",
      "[2022-04-08 19:11:56] INFO (nni.compression.pytorch.speedup.compressor/MainThread) Update mask for layer3.1.bn2\n",
      "[2022-04-08 19:11:56] INFO (nni.compression.pytorch.speedup.compressor/MainThread) Update mask for layer3.1.aten::add_.66\n",
      "[2022-04-08 19:11:56] INFO (nni.compression.pytorch.speedup.compressor/MainThread) Update mask for layer3.1.relu\n",
      "[2022-04-08 19:11:56] INFO (nni.compression.pytorch.speedup.compressor/MainThread) Update mask for layer4.0.conv1\n",
      "[2022-04-08 19:11:56] INFO (nni.compression.pytorch.speedup.compressor/MainThread) Update mask for layer4.0.downsample.0\n",
      "[2022-04-08 19:11:56] INFO (nni.compression.pytorch.speedup.compressor/MainThread) Update mask for layer4.0.bn1\n",
      "[2022-04-08 19:11:56] INFO (nni.compression.pytorch.speedup.compressor/MainThread) Update mask for layer4.0.downsample.1\n",
      "[2022-04-08 19:11:56] INFO (nni.compression.pytorch.speedup.compressor/MainThread) Update mask for layer4.0.relu\n",
      "[2022-04-08 19:11:56] INFO (nni.compression.pytorch.speedup.compressor/MainThread) Update mask for layer4.0.conv2\n",
      "[2022-04-08 19:11:56] INFO (nni.compression.pytorch.speedup.compressor/MainThread) Update mask for layer4.0.bn2\n",
      "[2022-04-08 19:11:56] INFO (nni.compression.pytorch.speedup.compressor/MainThread) Update mask for layer4.0.aten::add_.67\n",
      "[2022-04-08 19:11:56] INFO (nni.compression.pytorch.speedup.compressor/MainThread) Update mask for layer4.0.relu\n",
      "[2022-04-08 19:11:56] INFO (nni.compression.pytorch.speedup.compressor/MainThread) Update mask for layer4.1.conv1\n",
      "[2022-04-08 19:11:56] INFO (nni.compression.pytorch.speedup.compressor/MainThread) Update mask for layer4.1.bn1\n",
      "[2022-04-08 19:11:56] INFO (nni.compression.pytorch.speedup.compressor/MainThread) Update mask for layer4.1.relu\n"
     ]
    },
    {
     "name": "stdout",
     "output_type": "stream",
     "text": [
      "[2022-04-08 19:11:56] INFO (nni.compression.pytorch.speedup.compressor/MainThread) Update mask for layer4.1.conv2\n",
      "[2022-04-08 19:11:56] INFO (nni.compression.pytorch.speedup.compressor/MainThread) Update mask for layer4.1.bn2\n",
      "[2022-04-08 19:11:56] INFO (nni.compression.pytorch.speedup.compressor/MainThread) Update mask for layer4.1.aten::add_.68\n",
      "[2022-04-08 19:11:56] INFO (nni.compression.pytorch.speedup.compressor/MainThread) Update mask for layer4.1.relu\n",
      "[2022-04-08 19:11:56] INFO (nni.compression.pytorch.speedup.compressor/MainThread) Update mask for avgpool\n",
      "[2022-04-08 19:11:56] INFO (nni.compression.pytorch.speedup.compressor/MainThread) Update mask for .aten::flatten.60\n",
      "[2022-04-08 19:11:56] INFO (nni.compression.pytorch.speedup.compressor/MainThread) Update mask for fc\n",
      "[2022-04-08 19:11:56] INFO (nni.compression.pytorch.speedup.compressor/MainThread) Update the indirect sparsity for the fc\n",
      "[2022-04-08 19:11:56] INFO (nni.compression.pytorch.speedup.compressor/MainThread) Update the indirect sparsity for the .aten::flatten.60\n",
      "[2022-04-08 19:11:56] INFO (nni.compression.pytorch.speedup.compressor/MainThread) Update the indirect sparsity for the avgpool\n",
      "[2022-04-08 19:11:56] INFO (nni.compression.pytorch.speedup.compressor/MainThread) Update the indirect sparsity for the layer4.1.relu.1\n",
      "[2022-04-08 19:11:56] INFO (nni.compression.pytorch.speedup.compressor/MainThread) Update the indirect sparsity for the layer4.1.aten::add_.68\n",
      "[2022-04-08 19:11:56] INFO (nni.compression.pytorch.speedup.compressor/MainThread) Update the indirect sparsity for the layer4.1.bn2\n",
      "[2022-04-08 19:11:56] INFO (nni.compression.pytorch.speedup.compressor/MainThread) Update the indirect sparsity for the layer4.1.conv2\n",
      "[2022-04-08 19:11:57] INFO (nni.compression.pytorch.speedup.compressor/MainThread) Update the indirect sparsity for the layer4.1.relu\n",
      "[2022-04-08 19:11:57] INFO (nni.compression.pytorch.speedup.compressor/MainThread) Update the indirect sparsity for the layer4.1.bn1\n",
      "[2022-04-08 19:11:57] INFO (nni.compression.pytorch.speedup.compressor/MainThread) Update the indirect sparsity for the layer4.1.conv1\n",
      "[2022-04-08 19:11:57] INFO (nni.compression.pytorch.speedup.compressor/MainThread) Update the indirect sparsity for the layer4.0.relu.1\n",
      "[2022-04-08 19:11:57] INFO (nni.compression.pytorch.speedup.compressor/MainThread) Update the indirect sparsity for the layer4.0.aten::add_.67\n",
      "[2022-04-08 19:11:57] INFO (nni.compression.pytorch.speedup.compressor/MainThread) Update the indirect sparsity for the layer4.0.bn2\n",
      "[2022-04-08 19:11:57] INFO (nni.compression.pytorch.speedup.compressor/MainThread) Update the indirect sparsity for the layer4.0.downsample.1\n",
      "[2022-04-08 19:11:57] INFO (nni.compression.pytorch.speedup.compressor/MainThread) Update the indirect sparsity for the layer4.0.conv2\n",
      "[2022-04-08 19:11:57] INFO (nni.compression.pytorch.speedup.compressor/MainThread) Update the indirect sparsity for the layer4.0.downsample.0\n",
      "[2022-04-08 19:11:57] INFO (nni.compression.pytorch.speedup.compressor/MainThread) Update the indirect sparsity for the layer4.0.relu\n",
      "[2022-04-08 19:11:57] INFO (nni.compression.pytorch.speedup.compressor/MainThread) Update the indirect sparsity for the layer4.0.bn1\n",
      "[2022-04-08 19:11:57] INFO (nni.compression.pytorch.speedup.compressor/MainThread) Update the indirect sparsity for the layer4.0.conv1\n",
      "[2022-04-08 19:11:57] INFO (nni.compression.pytorch.speedup.compressor/MainThread) Update the indirect sparsity for the layer3.1.relu.1\n",
      "[2022-04-08 19:11:57] INFO (nni.compression.pytorch.speedup.compressor/MainThread) Update the indirect sparsity for the layer3.1.aten::add_.66\n",
      "[2022-04-08 19:11:57] INFO (nni.compression.pytorch.speedup.compressor/MainThread) Update the indirect sparsity for the layer3.1.bn2\n",
      "[2022-04-08 19:11:57] INFO (nni.compression.pytorch.speedup.compressor/MainThread) Update the indirect sparsity for the layer3.1.conv2\n",
      "[2022-04-08 19:11:57] INFO (nni.compression.pytorch.speedup.compressor/MainThread) Update the indirect sparsity for the layer3.1.relu\n",
      "[2022-04-08 19:11:57] INFO (nni.compression.pytorch.speedup.compressor/MainThread) Update the indirect sparsity for the layer3.1.bn1\n",
      "[2022-04-08 19:11:57] INFO (nni.compression.pytorch.speedup.compressor/MainThread) Update the indirect sparsity for the layer3.1.conv1\n",
      "[2022-04-08 19:11:57] INFO (nni.compression.pytorch.speedup.compressor/MainThread) Update the indirect sparsity for the layer3.0.relu.1\n",
      "[2022-04-08 19:11:57] INFO (nni.compression.pytorch.speedup.compressor/MainThread) Update the indirect sparsity for the layer3.0.aten::add_.65\n",
      "[2022-04-08 19:11:57] INFO (nni.compression.pytorch.speedup.compressor/MainThread) Update the indirect sparsity for the layer3.0.bn2\n",
      "[2022-04-08 19:11:57] INFO (nni.compression.pytorch.speedup.compressor/MainThread) Update the indirect sparsity for the layer3.0.downsample.1\n",
      "[2022-04-08 19:11:57] INFO (nni.compression.pytorch.speedup.compressor/MainThread) Update the indirect sparsity for the layer3.0.conv2\n",
      "[2022-04-08 19:11:57] INFO (nni.compression.pytorch.speedup.compressor/MainThread) Update the indirect sparsity for the layer3.0.downsample.0\n",
      "[2022-04-08 19:11:57] INFO (nni.compression.pytorch.speedup.compressor/MainThread) Update the indirect sparsity for the layer3.0.relu\n",
      "[2022-04-08 19:11:57] INFO (nni.compression.pytorch.speedup.compressor/MainThread) Update the indirect sparsity for the layer3.0.bn1\n",
      "[2022-04-08 19:11:57] INFO (nni.compression.pytorch.speedup.compressor/MainThread) Update the indirect sparsity for the layer3.0.conv1\n",
      "[2022-04-08 19:11:57] INFO (nni.compression.pytorch.speedup.compressor/MainThread) Update the indirect sparsity for the layer2.1.relu.1\n",
      "[2022-04-08 19:11:57] INFO (nni.compression.pytorch.speedup.compressor/MainThread) Update the indirect sparsity for the layer2.1.aten::add_.64\n",
      "[2022-04-08 19:11:57] INFO (nni.compression.pytorch.speedup.compressor/MainThread) Update the indirect sparsity for the layer2.1.bn2\n",
      "[2022-04-08 19:11:57] INFO (nni.compression.pytorch.speedup.compressor/MainThread) Update the indirect sparsity for the layer2.1.conv2\n",
      "[2022-04-08 19:11:57] INFO (nni.compression.pytorch.speedup.compressor/MainThread) Update the indirect sparsity for the layer2.1.relu\n",
      "[2022-04-08 19:11:57] INFO (nni.compression.pytorch.speedup.compressor/MainThread) Update the indirect sparsity for the layer2.1.bn1\n",
      "[2022-04-08 19:11:57] INFO (nni.compression.pytorch.speedup.compressor/MainThread) Update the indirect sparsity for the layer2.1.conv1\n",
      "[2022-04-08 19:11:57] INFO (nni.compression.pytorch.speedup.compressor/MainThread) Update the indirect sparsity for the layer2.0.relu.1\n",
      "[2022-04-08 19:11:57] INFO (nni.compression.pytorch.speedup.compressor/MainThread) Update the indirect sparsity for the layer2.0.aten::add_.63\n",
      "[2022-04-08 19:11:57] INFO (nni.compression.pytorch.speedup.compressor/MainThread) Update the indirect sparsity for the layer2.0.bn2\n",
      "[2022-04-08 19:11:57] INFO (nni.compression.pytorch.speedup.compressor/MainThread) Update the indirect sparsity for the layer2.0.downsample.1\n",
      "[2022-04-08 19:11:57] INFO (nni.compression.pytorch.speedup.compressor/MainThread) Update the indirect sparsity for the layer2.0.conv2\n",
      "[2022-04-08 19:11:57] INFO (nni.compression.pytorch.speedup.compressor/MainThread) Update the indirect sparsity for the layer2.0.downsample.0\n",
      "[2022-04-08 19:11:57] INFO (nni.compression.pytorch.speedup.compressor/MainThread) Update the indirect sparsity for the layer2.0.relu\n",
      "[2022-04-08 19:11:57] INFO (nni.compression.pytorch.speedup.compressor/MainThread) Update the indirect sparsity for the layer2.0.bn1\n",
      "[2022-04-08 19:11:57] INFO (nni.compression.pytorch.speedup.compressor/MainThread) Update the indirect sparsity for the layer2.0.conv1\n",
      "[2022-04-08 19:11:57] INFO (nni.compression.pytorch.speedup.compressor/MainThread) Update the indirect sparsity for the layer1.1.relu.1\n",
      "[2022-04-08 19:11:57] INFO (nni.compression.pytorch.speedup.compressor/MainThread) Update the indirect sparsity for the layer1.1.aten::add_.62\n",
      "[2022-04-08 19:11:57] INFO (nni.compression.pytorch.speedup.compressor/MainThread) Update the indirect sparsity for the layer1.1.bn2\n",
      "[2022-04-08 19:11:57] INFO (nni.compression.pytorch.speedup.compressor/MainThread) Update the indirect sparsity for the layer1.1.conv2\n"
     ]
    },
    {
     "name": "stdout",
     "output_type": "stream",
     "text": [
      "[2022-04-08 19:11:57] INFO (nni.compression.pytorch.speedup.compressor/MainThread) Update the indirect sparsity for the layer1.1.relu\n",
      "[2022-04-08 19:11:57] INFO (nni.compression.pytorch.speedup.compressor/MainThread) Update the indirect sparsity for the layer1.1.bn1\n",
      "[2022-04-08 19:11:57] INFO (nni.compression.pytorch.speedup.compressor/MainThread) Update the indirect sparsity for the layer1.1.conv1\n",
      "[2022-04-08 19:11:57] INFO (nni.compression.pytorch.speedup.compressor/MainThread) Update the indirect sparsity for the layer1.0.relu.1\n",
      "[2022-04-08 19:11:57] INFO (nni.compression.pytorch.speedup.compressor/MainThread) Update the indirect sparsity for the layer1.0.aten::add_.61\n",
      "[2022-04-08 19:11:57] INFO (nni.compression.pytorch.speedup.compressor/MainThread) Update the indirect sparsity for the layer1.0.bn2\n",
      "[2022-04-08 19:11:57] INFO (nni.compression.pytorch.speedup.compressor/MainThread) Update the indirect sparsity for the layer1.0.conv2\n",
      "[2022-04-08 19:11:57] INFO (nni.compression.pytorch.speedup.compressor/MainThread) Update the indirect sparsity for the layer1.0.relu\n",
      "[2022-04-08 19:11:57] INFO (nni.compression.pytorch.speedup.compressor/MainThread) Update the indirect sparsity for the layer1.0.bn1\n",
      "[2022-04-08 19:11:57] INFO (nni.compression.pytorch.speedup.compressor/MainThread) Update the indirect sparsity for the layer1.0.conv1\n",
      "[2022-04-08 19:11:57] INFO (nni.compression.pytorch.speedup.compressor/MainThread) Update the indirect sparsity for the maxpool\n",
      "[2022-04-08 19:11:57] INFO (nni.compression.pytorch.speedup.compressor/MainThread) Update the indirect sparsity for the relu\n",
      "[2022-04-08 19:11:57] INFO (nni.compression.pytorch.speedup.compressor/MainThread) Update the indirect sparsity for the bn1\n",
      "[2022-04-08 19:11:57] INFO (nni.compression.pytorch.speedup.compressor/MainThread) Update the indirect sparsity for the conv1\n",
      "[2022-04-08 19:11:57] INFO (nni.compression.pytorch.speedup.compressor/MainThread) resolve the mask conflict\n",
      "[2022-04-08 19:11:57] INFO (nni.compression.pytorch.speedup.compressor/MainThread) replace compressed modules...\n",
      "[2022-04-08 19:11:57] INFO (nni.compression.pytorch.speedup.compressor/MainThread) replace module (name: conv1, op_type: Conv2d)\n",
      "[2022-04-08 19:11:57] INFO (nni.compression.pytorch.speedup.compressor/MainThread) replace module (name: bn1, op_type: BatchNorm2d)\n",
      "[2022-04-08 19:11:57] INFO (nni.compression.pytorch.speedup.compress_modules/MainThread) replace batchnorm2d with num_features: 53\n",
      "[2022-04-08 19:11:57] INFO (nni.compression.pytorch.speedup.compressor/MainThread) replace module (name: relu, op_type: ReLU)\n",
      "[2022-04-08 19:11:57] INFO (nni.compression.pytorch.speedup.compressor/MainThread) replace module (name: maxpool, op_type: MaxPool2d)\n",
      "[2022-04-08 19:11:57] INFO (nni.compression.pytorch.speedup.compressor/MainThread) replace module (name: layer1.0.conv1, op_type: Conv2d)\n",
      "[2022-04-08 19:11:57] INFO (nni.compression.pytorch.speedup.compressor/MainThread) replace module (name: layer1.0.bn1, op_type: BatchNorm2d)\n",
      "[2022-04-08 19:11:57] INFO (nni.compression.pytorch.speedup.compress_modules/MainThread) replace batchnorm2d with num_features: 32\n",
      "[2022-04-08 19:11:57] INFO (nni.compression.pytorch.speedup.compressor/MainThread) replace module (name: layer1.0.relu, op_type: ReLU)\n",
      "[2022-04-08 19:11:57] INFO (nni.compression.pytorch.speedup.compressor/MainThread) replace module (name: layer1.0.conv2, op_type: Conv2d)\n",
      "[2022-04-08 19:11:57] INFO (nni.compression.pytorch.speedup.compressor/MainThread) replace module (name: layer1.0.bn2, op_type: BatchNorm2d)\n",
      "[2022-04-08 19:11:57] INFO (nni.compression.pytorch.speedup.compress_modules/MainThread) replace batchnorm2d with num_features: 53\n",
      "[2022-04-08 19:11:57] INFO (nni.compression.pytorch.speedup.compressor/MainThread) Warning: cannot replace (name: layer1.0.aten::add_.61, op_type: aten::add_) which is func type\n",
      "[2022-04-08 19:11:57] INFO (nni.compression.pytorch.speedup.compressor/MainThread) replace module (name: layer1.0.relu, op_type: ReLU)\n",
      "[2022-04-08 19:11:57] INFO (nni.compression.pytorch.speedup.compressor/MainThread) replace module (name: layer1.1.conv1, op_type: Conv2d)\n",
      "[2022-04-08 19:11:57] INFO (nni.compression.pytorch.speedup.compressor/MainThread) replace module (name: layer1.1.bn1, op_type: BatchNorm2d)\n",
      "[2022-04-08 19:11:57] INFO (nni.compression.pytorch.speedup.compress_modules/MainThread) replace batchnorm2d with num_features: 32\n",
      "[2022-04-08 19:11:57] INFO (nni.compression.pytorch.speedup.compressor/MainThread) replace module (name: layer1.1.relu, op_type: ReLU)\n",
      "[2022-04-08 19:11:57] INFO (nni.compression.pytorch.speedup.compressor/MainThread) replace module (name: layer1.1.conv2, op_type: Conv2d)\n",
      "[2022-04-08 19:11:57] INFO (nni.compression.pytorch.speedup.compressor/MainThread) replace module (name: layer1.1.bn2, op_type: BatchNorm2d)\n",
      "[2022-04-08 19:11:57] INFO (nni.compression.pytorch.speedup.compress_modules/MainThread) replace batchnorm2d with num_features: 53\n",
      "[2022-04-08 19:11:57] INFO (nni.compression.pytorch.speedup.compressor/MainThread) Warning: cannot replace (name: layer1.1.aten::add_.62, op_type: aten::add_) which is func type\n",
      "[2022-04-08 19:11:57] INFO (nni.compression.pytorch.speedup.compressor/MainThread) replace module (name: layer1.1.relu, op_type: ReLU)\n",
      "[2022-04-08 19:11:57] INFO (nni.compression.pytorch.speedup.compressor/MainThread) replace module (name: layer2.0.conv1, op_type: Conv2d)\n",
      "[2022-04-08 19:11:57] INFO (nni.compression.pytorch.speedup.compressor/MainThread) replace module (name: layer2.0.downsample.0, op_type: Conv2d)\n",
      "[2022-04-08 19:11:57] INFO (nni.compression.pytorch.speedup.compressor/MainThread) replace module (name: layer2.0.bn1, op_type: BatchNorm2d)\n",
      "[2022-04-08 19:11:57] INFO (nni.compression.pytorch.speedup.compress_modules/MainThread) replace batchnorm2d with num_features: 64\n",
      "[2022-04-08 19:11:57] INFO (nni.compression.pytorch.speedup.compressor/MainThread) replace module (name: layer2.0.downsample.1, op_type: BatchNorm2d)\n",
      "[2022-04-08 19:11:57] INFO (nni.compression.pytorch.speedup.compress_modules/MainThread) replace batchnorm2d with num_features: 122\n",
      "[2022-04-08 19:11:57] INFO (nni.compression.pytorch.speedup.compressor/MainThread) replace module (name: layer2.0.relu, op_type: ReLU)\n",
      "[2022-04-08 19:11:57] INFO (nni.compression.pytorch.speedup.compressor/MainThread) replace module (name: layer2.0.conv2, op_type: Conv2d)\n",
      "[2022-04-08 19:11:57] INFO (nni.compression.pytorch.speedup.compressor/MainThread) replace module (name: layer2.0.bn2, op_type: BatchNorm2d)\n",
      "[2022-04-08 19:11:57] INFO (nni.compression.pytorch.speedup.compress_modules/MainThread) replace batchnorm2d with num_features: 122\n",
      "[2022-04-08 19:11:57] INFO (nni.compression.pytorch.speedup.compressor/MainThread) Warning: cannot replace (name: layer2.0.aten::add_.63, op_type: aten::add_) which is func type\n",
      "[2022-04-08 19:11:57] INFO (nni.compression.pytorch.speedup.compressor/MainThread) replace module (name: layer2.0.relu, op_type: ReLU)\n",
      "[2022-04-08 19:11:57] INFO (nni.compression.pytorch.speedup.compressor/MainThread) replace module (name: layer2.1.conv1, op_type: Conv2d)\n",
      "[2022-04-08 19:11:57] INFO (nni.compression.pytorch.speedup.compressor/MainThread) replace module (name: layer2.1.bn1, op_type: BatchNorm2d)\n",
      "[2022-04-08 19:11:57] INFO (nni.compression.pytorch.speedup.compress_modules/MainThread) replace batchnorm2d with num_features: 64\n",
      "[2022-04-08 19:11:57] INFO (nni.compression.pytorch.speedup.compressor/MainThread) replace module (name: layer2.1.relu, op_type: ReLU)\n",
      "[2022-04-08 19:11:57] INFO (nni.compression.pytorch.speedup.compressor/MainThread) replace module (name: layer2.1.conv2, op_type: Conv2d)\n",
      "[2022-04-08 19:11:57] INFO (nni.compression.pytorch.speedup.compressor/MainThread) replace module (name: layer2.1.bn2, op_type: BatchNorm2d)\n",
      "[2022-04-08 19:11:57] INFO (nni.compression.pytorch.speedup.compress_modules/MainThread) replace batchnorm2d with num_features: 122\n",
      "[2022-04-08 19:11:57] INFO (nni.compression.pytorch.speedup.compressor/MainThread) Warning: cannot replace (name: layer2.1.aten::add_.64, op_type: aten::add_) which is func type\n",
      "[2022-04-08 19:11:57] INFO (nni.compression.pytorch.speedup.compressor/MainThread) replace module (name: layer2.1.relu, op_type: ReLU)\n"
     ]
    },
    {
     "name": "stdout",
     "output_type": "stream",
     "text": [
      "[2022-04-08 19:11:57] INFO (nni.compression.pytorch.speedup.compressor/MainThread) replace module (name: layer3.0.conv1, op_type: Conv2d)\n",
      "[2022-04-08 19:11:57] INFO (nni.compression.pytorch.speedup.compressor/MainThread) replace module (name: layer3.0.downsample.0, op_type: Conv2d)\n",
      "[2022-04-08 19:11:57] INFO (nni.compression.pytorch.speedup.compressor/MainThread) replace module (name: layer3.0.bn1, op_type: BatchNorm2d)\n",
      "[2022-04-08 19:11:57] INFO (nni.compression.pytorch.speedup.compress_modules/MainThread) replace batchnorm2d with num_features: 128\n",
      "[2022-04-08 19:11:57] INFO (nni.compression.pytorch.speedup.compressor/MainThread) replace module (name: layer3.0.downsample.1, op_type: BatchNorm2d)\n",
      "[2022-04-08 19:11:57] INFO (nni.compression.pytorch.speedup.compress_modules/MainThread) replace batchnorm2d with num_features: 239\n",
      "[2022-04-08 19:11:57] INFO (nni.compression.pytorch.speedup.compressor/MainThread) replace module (name: layer3.0.relu, op_type: ReLU)\n",
      "[2022-04-08 19:11:57] INFO (nni.compression.pytorch.speedup.compressor/MainThread) replace module (name: layer3.0.conv2, op_type: Conv2d)\n",
      "[2022-04-08 19:11:57] INFO (nni.compression.pytorch.speedup.compressor/MainThread) replace module (name: layer3.0.bn2, op_type: BatchNorm2d)\n",
      "[2022-04-08 19:11:57] INFO (nni.compression.pytorch.speedup.compress_modules/MainThread) replace batchnorm2d with num_features: 239\n",
      "[2022-04-08 19:11:57] INFO (nni.compression.pytorch.speedup.compressor/MainThread) Warning: cannot replace (name: layer3.0.aten::add_.65, op_type: aten::add_) which is func type\n",
      "[2022-04-08 19:11:57] INFO (nni.compression.pytorch.speedup.compressor/MainThread) replace module (name: layer3.0.relu, op_type: ReLU)\n",
      "[2022-04-08 19:11:57] INFO (nni.compression.pytorch.speedup.compressor/MainThread) replace module (name: layer3.1.conv1, op_type: Conv2d)\n",
      "[2022-04-08 19:11:57] INFO (nni.compression.pytorch.speedup.compressor/MainThread) replace module (name: layer3.1.bn1, op_type: BatchNorm2d)\n",
      "[2022-04-08 19:11:57] INFO (nni.compression.pytorch.speedup.compress_modules/MainThread) replace batchnorm2d with num_features: 128\n",
      "[2022-04-08 19:11:57] INFO (nni.compression.pytorch.speedup.compressor/MainThread) replace module (name: layer3.1.relu, op_type: ReLU)\n",
      "[2022-04-08 19:11:57] INFO (nni.compression.pytorch.speedup.compressor/MainThread) replace module (name: layer3.1.conv2, op_type: Conv2d)\n",
      "[2022-04-08 19:11:57] INFO (nni.compression.pytorch.speedup.compressor/MainThread) replace module (name: layer3.1.bn2, op_type: BatchNorm2d)\n",
      "[2022-04-08 19:11:57] INFO (nni.compression.pytorch.speedup.compress_modules/MainThread) replace batchnorm2d with num_features: 239\n",
      "[2022-04-08 19:11:57] INFO (nni.compression.pytorch.speedup.compressor/MainThread) Warning: cannot replace (name: layer3.1.aten::add_.66, op_type: aten::add_) which is func type\n",
      "[2022-04-08 19:11:57] INFO (nni.compression.pytorch.speedup.compressor/MainThread) replace module (name: layer3.1.relu, op_type: ReLU)\n",
      "[2022-04-08 19:11:57] INFO (nni.compression.pytorch.speedup.compressor/MainThread) replace module (name: layer4.0.conv1, op_type: Conv2d)\n",
      "[2022-04-08 19:11:57] INFO (nni.compression.pytorch.speedup.compressor/MainThread) replace module (name: layer4.0.downsample.0, op_type: Conv2d)\n",
      "[2022-04-08 19:11:57] INFO (nni.compression.pytorch.speedup.compressor/MainThread) replace module (name: layer4.0.bn1, op_type: BatchNorm2d)\n",
      "[2022-04-08 19:11:57] INFO (nni.compression.pytorch.speedup.compress_modules/MainThread) replace batchnorm2d with num_features: 256\n",
      "[2022-04-08 19:11:57] INFO (nni.compression.pytorch.speedup.compressor/MainThread) replace module (name: layer4.0.downsample.1, op_type: BatchNorm2d)\n",
      "[2022-04-08 19:11:57] INFO (nni.compression.pytorch.speedup.compress_modules/MainThread) replace batchnorm2d with num_features: 463\n",
      "[2022-04-08 19:11:57] INFO (nni.compression.pytorch.speedup.compressor/MainThread) replace module (name: layer4.0.relu, op_type: ReLU)\n",
      "[2022-04-08 19:11:57] INFO (nni.compression.pytorch.speedup.compressor/MainThread) replace module (name: layer4.0.conv2, op_type: Conv2d)\n",
      "[2022-04-08 19:11:57] INFO (nni.compression.pytorch.speedup.compressor/MainThread) replace module (name: layer4.0.bn2, op_type: BatchNorm2d)\n",
      "[2022-04-08 19:11:57] INFO (nni.compression.pytorch.speedup.compress_modules/MainThread) replace batchnorm2d with num_features: 463\n",
      "[2022-04-08 19:11:57] INFO (nni.compression.pytorch.speedup.compressor/MainThread) Warning: cannot replace (name: layer4.0.aten::add_.67, op_type: aten::add_) which is func type\n",
      "[2022-04-08 19:11:57] INFO (nni.compression.pytorch.speedup.compressor/MainThread) replace module (name: layer4.0.relu, op_type: ReLU)\n",
      "[2022-04-08 19:11:57] INFO (nni.compression.pytorch.speedup.compressor/MainThread) replace module (name: layer4.1.conv1, op_type: Conv2d)\n",
      "[2022-04-08 19:11:57] INFO (nni.compression.pytorch.speedup.compressor/MainThread) replace module (name: layer4.1.bn1, op_type: BatchNorm2d)\n",
      "[2022-04-08 19:11:57] INFO (nni.compression.pytorch.speedup.compress_modules/MainThread) replace batchnorm2d with num_features: 256\n",
      "[2022-04-08 19:11:57] INFO (nni.compression.pytorch.speedup.compressor/MainThread) replace module (name: layer4.1.relu, op_type: ReLU)\n",
      "[2022-04-08 19:11:57] INFO (nni.compression.pytorch.speedup.compressor/MainThread) replace module (name: layer4.1.conv2, op_type: Conv2d)\n",
      "[2022-04-08 19:11:57] INFO (nni.compression.pytorch.speedup.compressor/MainThread) replace module (name: layer4.1.bn2, op_type: BatchNorm2d)\n",
      "[2022-04-08 19:11:57] INFO (nni.compression.pytorch.speedup.compress_modules/MainThread) replace batchnorm2d with num_features: 463\n",
      "[2022-04-08 19:11:57] INFO (nni.compression.pytorch.speedup.compressor/MainThread) Warning: cannot replace (name: layer4.1.aten::add_.68, op_type: aten::add_) which is func type\n",
      "[2022-04-08 19:11:57] INFO (nni.compression.pytorch.speedup.compressor/MainThread) replace module (name: layer4.1.relu, op_type: ReLU)\n",
      "[2022-04-08 19:11:57] INFO (nni.compression.pytorch.speedup.compressor/MainThread) replace module (name: avgpool, op_type: AdaptiveAvgPool2d)\n",
      "[2022-04-08 19:11:57] INFO (nni.compression.pytorch.speedup.compressor/MainThread) Warning: cannot replace (name: .aten::flatten.60, op_type: aten::flatten) which is func type\n",
      "[2022-04-08 19:11:57] INFO (nni.compression.pytorch.speedup.compressor/MainThread) replace module (name: fc, op_type: Linear)\n",
      "[2022-04-08 19:11:57] INFO (nni.compression.pytorch.speedup.compress_modules/MainThread) replace linear with new in_features: 463, out_features: 10\n",
      "[2022-04-08 19:11:57] INFO (nni.compression.pytorch.speedup.compressor/MainThread) speedup done\n"
     ]
    }
   ],
   "source": [
    "config_list = [{ 'sparsity': 0.5, 'op_types': ['Conv2d'] }]\n",
    "\n",
    "model = torchvision.models.resnet18( pretrained= False)\n",
    "model_w = torch.load (\"./best_model.pth\", map_location=\"cpu\")\n",
    "model.load_state_dict(model_w).eval()\n",
    "\n",
    "\n",
    "dummy_input = torch.randn(1, 3, 32, 32).to(\"cpu\")\n",
    "\n",
    "pruner = L2FilterPruner(model, config_list) \n",
    "pruned_model = pruner.compress();\n",
    "pruner.export_model(model_path='./test.pt', mask_path='./test_mask.pt')\n",
    "\n",
    "model_new = torchvision.models.resnet18( pretrained= False)\n",
    "model_w = torch.load (\"./best_model.pth\", map_location=\"cpu\")\n",
    "model_new.load_state_dict(model_w).eval()\n",
    "m_speedup = ModelSpeedup(model_new, dummy_input, './test_mask.pt')\n",
    "m_speedup.speedup_model();\n",
    "\n",
    "torch.save(m, \"./model_prunel2.pth\")"
   ]
  },
  {
   "cell_type": "markdown",
   "id": "f1ad6e5d",
   "metadata": {},
   "source": [
    "### 5.2 Анализ результатов"
   ]
  },
  {
   "cell_type": "markdown",
   "id": "0485061c",
   "metadata": {},
   "source": [
    "Проведем анализ получившихся результатов по рамеру моделей и  скорости работы. Для этого создадим функцию оценки количества весов модели\n",
    "```get_n_params```"
   ]
  },
  {
   "cell_type": "code",
   "execution_count": 30,
   "id": "dc77535b",
   "metadata": {},
   "outputs": [],
   "source": [
    "def get_n_params(model):\n",
    "    pp=0\n",
    "    for p in list(model.parameters()):\n",
    "        nn=1\n",
    "        for s in list(p.size()):\n",
    "            nn = nn*s\n",
    "        pp += nn\n",
    "    return pp"
   ]
  },
  {
   "cell_type": "code",
   "execution_count": 31,
   "id": "805dd4f9",
   "metadata": {},
   "outputs": [],
   "source": [
    "model_prunel1 = torch.load (\"./model_prunel1.pth\", map_location=\"cpu\").eval()\n",
    "model_prunel2 = torch.load (\"./model_prunel2.pth\", map_location=\"cpu\").eval()\n",
    "\n",
    "model = torchvision.models.resnet18( pretrained= False)\n",
    "model_w = torch.load (\"./best_model.pth\", map_location=\"cpu\")\n",
    "model.load_state_dict(model_w).eval()\n",
    "\n",
    "dummy_input = torch.ones(128, 3, 32, 32).to(\"cpu\")"
   ]
  },
  {
   "cell_type": "code",
   "execution_count": 36,
   "id": "fbf9d259",
   "metadata": {},
   "outputs": [
    {
     "data": {
      "text/plain": [
       "5159194"
      ]
     },
     "execution_count": 36,
     "metadata": {},
     "output_type": "execute_result"
    }
   ],
   "source": [
    "get_n_params(model_prunel1)"
   ]
  },
  {
   "cell_type": "code",
   "execution_count": 37,
   "id": "2e356554",
   "metadata": {},
   "outputs": [
    {
     "name": "stdout",
     "output_type": "stream",
     "text": [
      "L1pruning 46.14%, L2pruning 46.38% parametr of original\n"
     ]
    }
   ],
   "source": [
    "print (\"L1pruning {metric1}%, L2pruning {metric2}% parametr of original\".format( \\\n",
    "                                    metric1=round(get_n_params(model_prunel1)/get_n_params(model)*100,2), \\\n",
    "                                    metric2=round(get_n_params(model_prunel2)/get_n_params(model)*100,2)))"
   ]
  },
  {
   "cell_type": "code",
   "execution_count": 38,
   "id": "3c539425",
   "metadata": {},
   "outputs": [
    {
     "name": "stdout",
     "output_type": "stream",
     "text": [
      "213 ms ± 9.63 ms per loop (mean ± std. dev. of 7 runs, 1 loop each)\n"
     ]
    }
   ],
   "source": [
    "%%timeit\n",
    "model(dummy_input)"
   ]
  },
  {
   "cell_type": "code",
   "execution_count": 39,
   "id": "54515018",
   "metadata": {},
   "outputs": [
    {
     "name": "stdout",
     "output_type": "stream",
     "text": [
      "117 ms ± 916 µs per loop (mean ± std. dev. of 7 runs, 10 loops each)\n"
     ]
    }
   ],
   "source": [
    "%%timeit\n",
    "model_prunel1(dummy_input)"
   ]
  },
  {
   "cell_type": "code",
   "execution_count": 40,
   "id": "22ce5f28",
   "metadata": {},
   "outputs": [
    {
     "name": "stdout",
     "output_type": "stream",
     "text": [
      "116 ms ± 240 µs per loop (mean ± std. dev. of 7 runs, 10 loops each)\n"
     ]
    }
   ],
   "source": [
    "%%timeit\n",
    "model_prunel2(dummy_input)"
   ]
  },
  {
   "cell_type": "markdown",
   "id": "8993997c",
   "metadata": {},
   "source": [
    "### 5.3 Дообучение пруниных моделей"
   ]
  },
  {
   "cell_type": "markdown",
   "id": "3b98d1c5",
   "metadata": {},
   "source": [
    "После прунинга точность моделей заметно уменьшается, поэтому требуется дообучение. "
   ]
  },
  {
   "cell_type": "code",
   "execution_count": 43,
   "id": "e8e118ad",
   "metadata": {},
   "outputs": [],
   "source": [
    "params = {\n",
    "    \"device\": \"cpu\",\n",
    "    \"lr\": 0.0001,\n",
    "    \"batch_size\": 128,\n",
    "    \"num_workers\": 8,\n",
    "    \"epochs\": 15,\n",
    "}"
   ]
  },
  {
   "cell_type": "code",
   "execution_count": null,
   "id": "ea1c3be4",
   "metadata": {},
   "outputs": [],
   "source": [
    "model_prunel1 = train_and_validate(model_prunel1.to(\"cpu\"), data_train, data_test, params)"
   ]
  },
  {
   "cell_type": "code",
   "execution_count": null,
   "id": "ffcd783b",
   "metadata": {},
   "outputs": [],
   "source": [
    "model_prunel2 = train_and_validate(model_prunel2.to(\"cuda\"), data_train, data_test, params)"
   ]
  },
  {
   "cell_type": "code",
   "execution_count": null,
   "id": "6e111b91",
   "metadata": {},
   "outputs": [],
   "source": []
  },
  {
   "cell_type": "code",
   "execution_count": null,
   "id": "8b043e63",
   "metadata": {},
   "outputs": [],
   "source": []
  }
 ],
 "metadata": {
  "kernelspec": {
   "display_name": "Python 3 (ipykernel)",
   "language": "python",
   "name": "python3"
  },
  "language_info": {
   "codemirror_mode": {
    "name": "ipython",
    "version": 3
   },
   "file_extension": ".py",
   "mimetype": "text/x-python",
   "name": "python",
   "nbconvert_exporter": "python",
   "pygments_lexer": "ipython3",
   "version": "3.9.6"
  }
 },
 "nbformat": 4,
 "nbformat_minor": 5
}
